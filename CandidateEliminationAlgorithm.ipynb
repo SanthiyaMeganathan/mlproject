{
 "cells": [
  {
   "cell_type": "code",
   "execution_count": 2,
   "id": "96ac5e54-9aa0-476f-a750-53dd91c6056f",
   "metadata": {},
   "outputs": [
    {
     "name": "stdout",
     "output_type": "stream",
     "text": [
      "Final Specific Hypothesis: ['?']\n",
      "Final General Hypothesis: [['Sunny', '?', '?', '?', '?', '?'], ['?', 'Warm', '?', '?', '?', '?'], ['?', '?', '?', '?', 'Cool', '?']]\n"
     ]
    }
   ],
   "source": [
    "import numpy as np\n",
    "\n",
    "def more_general(h1, h2):\n",
    "    \"\"\"\n",
    "    Check if hypothesis h1 is more general than hypothesis h2\n",
    "    \"\"\"\n",
    "    more_general_parts = []\n",
    "    for x, y in zip(h1, h2):\n",
    "        mg = x == \"?\" or (x != \"0\" and (x == y or y == \"0\"))\n",
    "        more_general_parts.append(mg)\n",
    "    return all(more_general_parts)\n",
    "\n",
    "def candidate_elimination_algorithm(training_examples):\n",
    "    \"\"\"\n",
    "    Implementation of Candidate Elimination Algorithm\n",
    "    \"\"\"\n",
    "    # Initialize S and G\n",
    "    S = list(training_examples[0][:-1])  # Start with the first positive example as a list\n",
    "    G = [[\"?\" for _ in range(len(S))]]  # Start with the most general hypothesis\n",
    "\n",
    "    # Iterate through all training examples\n",
    "    for example in training_examples:\n",
    "        inputs, output = example[:-1], example[-1]\n",
    "        \n",
    "        if output == \"Yes\":  # Positive example\n",
    "            # Remove inconsistent hypotheses from G\n",
    "            G = [g for g in G if more_general(g, inputs)]\n",
    "            # Generalize S to be consistent with the example\n",
    "            for i, s in enumerate(S):\n",
    "                if inputs[i] != s:\n",
    "                    S[i] = \"?\"\n",
    "        \n",
    "        elif output == \"No\":  # Negative example\n",
    "            # Remove inconsistent hypotheses from S\n",
    "            S = [s for s in [S] if not more_general(s, inputs)]\n",
    "            # Specialize G to be consistent with the example\n",
    "            G_new = []\n",
    "            for g in G:\n",
    "                for i in range(len(g)):\n",
    "                    if g[i] == \"?\":\n",
    "                        for val in np.unique([example[i] for example in training_examples]):\n",
    "                            if val != inputs[i]:\n",
    "                                g_new = g.copy()\n",
    "                                g_new[i] = val\n",
    "                                G_new.append(g_new)\n",
    "            G = G_new\n",
    "    \n",
    "    return S, G\n",
    "\n",
    "# Example usage\n",
    "# Training data: Each example is a tuple with attributes followed by the class label (Yes/No)\n",
    "training_data = [\n",
    "    ('Sunny', 'Warm', 'Normal', 'Strong', 'Warm', 'Same', 'Yes'),\n",
    "    ('Sunny', 'Warm', 'High', 'Strong', 'Warm', 'Same', 'Yes'),\n",
    "    ('Rainy', 'Cold', 'High', 'Strong', 'Warm', 'Change', 'No'),\n",
    "    ('Sunny', 'Warm', 'High', 'Strong', 'Cool', 'Change', 'Yes')\n",
    "]\n",
    "\n",
    "S, G = candidate_elimination_algorithm(training_data)\n",
    "\n",
    "print(f\"Final Specific Hypothesis: {S}\")\n",
    "print(f\"Final General Hypothesis: {G}\")\n",
    "\n"
   ]
  },
  {
   "cell_type": "code",
   "execution_count": null,
   "id": "a6bcb0c5-48b9-49ce-b340-d8ef83dcf8ce",
   "metadata": {},
   "outputs": [],
   "source": []
  }
 ],
 "metadata": {
  "kernelspec": {
   "display_name": "Python 3 (ipykernel)",
   "language": "python",
   "name": "python3"
  },
  "language_info": {
   "codemirror_mode": {
    "name": "ipython",
    "version": 3
   },
   "file_extension": ".py",
   "mimetype": "text/x-python",
   "name": "python",
   "nbconvert_exporter": "python",
   "pygments_lexer": "ipython3",
   "version": "3.12.4"
  }
 },
 "nbformat": 4,
 "nbformat_minor": 5
}
